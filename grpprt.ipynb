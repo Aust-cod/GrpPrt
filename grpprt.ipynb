{
 "cells": [
  {
   "cell_type": "code",
   "execution_count": null,
   "id": "b7bb48c1",
   "metadata": {},
   "outputs": [],
   "source": [
    " #Function to update total\n",
    " def update_total():\n",
    "    total = 0.0\n",
    "    for item in expense_list.get_children():\n",
    "        total += float(expense_list.item(item, \"values\")[1][1:])  # Extract numeric value\n",
    "    total_label.config(text=f\"Total: ${total:.2f}\")"
   ]
  },
  {
   "cell_type": "code",
   "execution_count": 1,
   "id": "847c9dee",
   "metadata": {},
   "outputs": [],
   "source": [
    "\n",
    "# Function to update total expense\n",
    "def update_total():\n",
    "    total = 0.0\n",
    "    for item in expense_list.get_children():\n",
    "        total += float(expense_list.item(item, \"values\")[1][1:])  # Extract numeric value\n",
    "    total_label.config(text=f\"Total: ${total:.2f}\")\n"
   ]
  }
 ],
 "metadata": {
  "kernelspec": {
   "display_name": "Python 3",
   "language": "python",
   "name": "python3"
  },
  "language_info": {
   "codemirror_mode": {
    "name": "ipython",
    "version": 3
   },
   "file_extension": ".py",
   "mimetype": "text/x-python",
   "name": "python",
   "nbconvert_exporter": "python",
   "pygments_lexer": "ipython3",
   "version": "3.13.2"
  }
 },
 "nbformat": 4,
 "nbformat_minor": 5
}
